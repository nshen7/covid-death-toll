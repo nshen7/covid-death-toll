{
 "metadata": {
  "language_info": {
   "codemirror_mode": {
    "name": "ipython",
    "version": 3
   },
   "file_extension": ".py",
   "mimetype": "text/x-python",
   "name": "python",
   "nbconvert_exporter": "python",
   "pygments_lexer": "ipython3",
   "version": "3.6.4-final"
  },
  "orig_nbformat": 2,
  "kernelspec": {
   "name": "Python 3.6.4 64-bit",
   "display_name": "Python 3.6.4 64-bit",
   "metadata": {
    "interpreter": {
     "hash": "05ece30799c2dcdac4c13b3af20453da19de8df0d9a1de52cff7e0b6e1e82bdd"
    }
   }
  }
 },
 "nbformat": 4,
 "nbformat_minor": 2,
 "cells": [
  {
   "cell_type": "code",
   "execution_count": 471,
   "metadata": {},
   "outputs": [],
   "source": [
    "import os\n",
    "import matplotlib.pyplot as plt\n",
    "import numpy as np\n",
    "import pandas as pd\n",
    "import datetime as dt\n",
    "import csv\n",
    "from linear_model import LeastSquaresBias\n"
   ]
  },
  {
   "cell_type": "code",
   "execution_count": 472,
   "metadata": {},
   "outputs": [],
   "source": [
    "def cosine_distance(X1,X2):\n",
    "    norm1=np.sqrt(np.sum(X1**2,axis=1)) #norm for each data vector:length is # row of X1 n1\n",
    "    norm2=np.sqrt(np.sum(X2**2,axis=1)) #norm for each data vector: length is # row of X2 n2\n",
    "    dem=np.outer(norm1,norm2) #n1*n2 matrix\n",
    "    num=np.dot(X1,X2.T)\n",
    "    tem=num/dem\n",
    "    tem[np.isnan(tem)]=0\n",
    "\n",
    "    return 1-tem\n",
    "\n",
    "def euclidean_dist_squared(X, Xtest):\n",
    "    return np.sum(X**2, axis=1)[:,None] + np.sum(Xtest**2, axis=1)[None] - 2 * np.dot(X,Xtest.T)\n",
    "    \n",
    "def rmse(predictions, targets):\n",
    "    return np.sqrt(((predictions - targets) ** 2).mean())"
   ]
  },
  {
   "cell_type": "code",
   "execution_count": 473,
   "metadata": {},
   "outputs": [
    {
     "output_type": "execute_result",
     "data": {
      "text/plain": "  country_id        date  cases  deaths  cases_14_100k  cases_100k\n0         AD  12/31/2019      0       0            0.0         0.0\n1         AD    1/1/2020      0       0            0.0         0.0\n2         AD    1/2/2020      0       0            0.0         0.0\n3         AD    1/3/2020      0       0            0.0         0.0\n4         AD    1/4/2020      0       0            0.0         0.0",
      "text/html": "<div>\n<style scoped>\n    .dataframe tbody tr th:only-of-type {\n        vertical-align: middle;\n    }\n\n    .dataframe tbody tr th {\n        vertical-align: top;\n    }\n\n    .dataframe thead th {\n        text-align: right;\n    }\n</style>\n<table border=\"1\" class=\"dataframe\">\n  <thead>\n    <tr style=\"text-align: right;\">\n      <th></th>\n      <th>country_id</th>\n      <th>date</th>\n      <th>cases</th>\n      <th>deaths</th>\n      <th>cases_14_100k</th>\n      <th>cases_100k</th>\n    </tr>\n  </thead>\n  <tbody>\n    <tr>\n      <th>0</th>\n      <td>AD</td>\n      <td>12/31/2019</td>\n      <td>0</td>\n      <td>0</td>\n      <td>0.0</td>\n      <td>0.0</td>\n    </tr>\n    <tr>\n      <th>1</th>\n      <td>AD</td>\n      <td>1/1/2020</td>\n      <td>0</td>\n      <td>0</td>\n      <td>0.0</td>\n      <td>0.0</td>\n    </tr>\n    <tr>\n      <th>2</th>\n      <td>AD</td>\n      <td>1/2/2020</td>\n      <td>0</td>\n      <td>0</td>\n      <td>0.0</td>\n      <td>0.0</td>\n    </tr>\n    <tr>\n      <th>3</th>\n      <td>AD</td>\n      <td>1/3/2020</td>\n      <td>0</td>\n      <td>0</td>\n      <td>0.0</td>\n      <td>0.0</td>\n    </tr>\n    <tr>\n      <th>4</th>\n      <td>AD</td>\n      <td>1/4/2020</td>\n      <td>0</td>\n      <td>0</td>\n      <td>0.0</td>\n      <td>0.0</td>\n    </tr>\n  </tbody>\n</table>\n</div>"
     },
     "metadata": {},
     "execution_count": 473
    }
   ],
   "source": [
    "filename = \"phase1_training_data.csv\"\n",
    "with open(os.path.join(\"..\",\"data\",filename),\"rb\") as f:\n",
    "    df0 = pd.read_csv(f)\n",
    "\n",
    "df0.head()"
   ]
  },
  {
   "cell_type": "code",
   "execution_count": 474,
   "metadata": {
    "tags": []
   },
   "outputs": [
    {
     "output_type": "execute_result",
     "data": {
      "text/plain": "           cases                             ... deaths                       \\\ncountry_id    AD AE AF AG AI AL AM AO AR AT  ...     VC VE VG VI VN XK YE ZA   \ndate                                         ...                               \n12/31/2019     0  0  0  0  0  0  0  0  0  0  ...      0  0  0  0  0  0  0  0   \n1/1/2020       0  0  0  0  0  0  0  0  0  0  ...      0  0  0  0  0  0  0  0   \n1/2/2020       0  0  0  0  0  0  0  0  0  0  ...      0  0  0  0  0  0  0  0   \n1/3/2020       0  0  0  0  0  0  0  0  0  0  ...      0  0  0  0  0  0  0  0   \n1/4/2020       0  0  0  0  0  0  0  0  0  0  ...      0  0  0  0  0  0  0  0   \n\n                  \ncountry_id ZM ZW  \ndate              \n12/31/2019  0  0  \n1/1/2020    0  0  \n1/2/2020    0  0  \n1/3/2020    0  0  \n1/4/2020    0  0  \n\n[5 rows x 832 columns]",
      "text/html": "<div>\n<style scoped>\n    .dataframe tbody tr th:only-of-type {\n        vertical-align: middle;\n    }\n\n    .dataframe tbody tr th {\n        vertical-align: top;\n    }\n\n    .dataframe thead tr th {\n        text-align: left;\n    }\n\n    .dataframe thead tr:last-of-type th {\n        text-align: right;\n    }\n</style>\n<table border=\"1\" class=\"dataframe\">\n  <thead>\n    <tr>\n      <th></th>\n      <th colspan=\"10\" halign=\"left\">cases</th>\n      <th>...</th>\n      <th colspan=\"10\" halign=\"left\">deaths</th>\n    </tr>\n    <tr>\n      <th>country_id</th>\n      <th>AD</th>\n      <th>AE</th>\n      <th>AF</th>\n      <th>AG</th>\n      <th>AI</th>\n      <th>AL</th>\n      <th>AM</th>\n      <th>AO</th>\n      <th>AR</th>\n      <th>AT</th>\n      <th>...</th>\n      <th>VC</th>\n      <th>VE</th>\n      <th>VG</th>\n      <th>VI</th>\n      <th>VN</th>\n      <th>XK</th>\n      <th>YE</th>\n      <th>ZA</th>\n      <th>ZM</th>\n      <th>ZW</th>\n    </tr>\n    <tr>\n      <th>date</th>\n      <th></th>\n      <th></th>\n      <th></th>\n      <th></th>\n      <th></th>\n      <th></th>\n      <th></th>\n      <th></th>\n      <th></th>\n      <th></th>\n      <th></th>\n      <th></th>\n      <th></th>\n      <th></th>\n      <th></th>\n      <th></th>\n      <th></th>\n      <th></th>\n      <th></th>\n      <th></th>\n      <th></th>\n    </tr>\n  </thead>\n  <tbody>\n    <tr>\n      <th>12/31/2019</th>\n      <td>0</td>\n      <td>0</td>\n      <td>0</td>\n      <td>0</td>\n      <td>0</td>\n      <td>0</td>\n      <td>0</td>\n      <td>0</td>\n      <td>0</td>\n      <td>0</td>\n      <td>...</td>\n      <td>0</td>\n      <td>0</td>\n      <td>0</td>\n      <td>0</td>\n      <td>0</td>\n      <td>0</td>\n      <td>0</td>\n      <td>0</td>\n      <td>0</td>\n      <td>0</td>\n    </tr>\n    <tr>\n      <th>1/1/2020</th>\n      <td>0</td>\n      <td>0</td>\n      <td>0</td>\n      <td>0</td>\n      <td>0</td>\n      <td>0</td>\n      <td>0</td>\n      <td>0</td>\n      <td>0</td>\n      <td>0</td>\n      <td>...</td>\n      <td>0</td>\n      <td>0</td>\n      <td>0</td>\n      <td>0</td>\n      <td>0</td>\n      <td>0</td>\n      <td>0</td>\n      <td>0</td>\n      <td>0</td>\n      <td>0</td>\n    </tr>\n    <tr>\n      <th>1/2/2020</th>\n      <td>0</td>\n      <td>0</td>\n      <td>0</td>\n      <td>0</td>\n      <td>0</td>\n      <td>0</td>\n      <td>0</td>\n      <td>0</td>\n      <td>0</td>\n      <td>0</td>\n      <td>...</td>\n      <td>0</td>\n      <td>0</td>\n      <td>0</td>\n      <td>0</td>\n      <td>0</td>\n      <td>0</td>\n      <td>0</td>\n      <td>0</td>\n      <td>0</td>\n      <td>0</td>\n    </tr>\n    <tr>\n      <th>1/3/2020</th>\n      <td>0</td>\n      <td>0</td>\n      <td>0</td>\n      <td>0</td>\n      <td>0</td>\n      <td>0</td>\n      <td>0</td>\n      <td>0</td>\n      <td>0</td>\n      <td>0</td>\n      <td>...</td>\n      <td>0</td>\n      <td>0</td>\n      <td>0</td>\n      <td>0</td>\n      <td>0</td>\n      <td>0</td>\n      <td>0</td>\n      <td>0</td>\n      <td>0</td>\n      <td>0</td>\n    </tr>\n    <tr>\n      <th>1/4/2020</th>\n      <td>0</td>\n      <td>0</td>\n      <td>0</td>\n      <td>0</td>\n      <td>0</td>\n      <td>0</td>\n      <td>0</td>\n      <td>0</td>\n      <td>0</td>\n      <td>0</td>\n      <td>...</td>\n      <td>0</td>\n      <td>0</td>\n      <td>0</td>\n      <td>0</td>\n      <td>0</td>\n      <td>0</td>\n      <td>0</td>\n      <td>0</td>\n      <td>0</td>\n      <td>0</td>\n    </tr>\n  </tbody>\n</table>\n<p>5 rows × 832 columns</p>\n</div>"
     },
     "metadata": {},
     "execution_count": 474
    }
   ],
   "source": [
    "df = df0.pivot_table(index=\"date\",columns='country_id',values=['deaths','cases','cases_14_100k','cases_100k'])\n",
    "dates = [dt.datetime.strptime(date, \"%m/%d/%Y\").date() for date in df.index.values]\n",
    "df = df.iloc[np.argsort(dates),:]\n",
    "df.head()\n"
   ]
  },
  {
   "cell_type": "code",
   "execution_count": 476,
   "metadata": {},
   "outputs": [
    {
     "output_type": "execute_result",
     "data": {
      "text/plain": "country_id  AD  AE  AF  AG  AI  AL  AM  AO  AR  AT  ...  VC  VE  VG  VI  VN  \\\ndate                                                ...                       \n12/31/2019   0   0   0   0   0   0   0   0   0   0  ...   0   0   0   0   0   \n1/1/2020     0   0   0   0   0   0   0   0   0   0  ...   0   0   0   0   0   \n1/2/2020     0   0   0   0   0   0   0   0   0   0  ...   0   0   0   0   0   \n1/3/2020     0   0   0   0   0   0   0   0   0   0  ...   0   0   0   0   0   \n1/4/2020     0   0   0   0   0   0   0   0   0   0  ...   0   0   0   0   0   \n\ncountry_id  XK  YE  ZA  ZM  ZW  \ndate                            \n12/31/2019   0   0   0   0   0  \n1/1/2020     0   0   0   0   0  \n1/2/2020     0   0   0   0   0  \n1/3/2020     0   0   0   0   0  \n1/4/2020     0   0   0   0   0  \n\n[5 rows x 208 columns]",
      "text/html": "<div>\n<style scoped>\n    .dataframe tbody tr th:only-of-type {\n        vertical-align: middle;\n    }\n\n    .dataframe tbody tr th {\n        vertical-align: top;\n    }\n\n    .dataframe thead th {\n        text-align: right;\n    }\n</style>\n<table border=\"1\" class=\"dataframe\">\n  <thead>\n    <tr style=\"text-align: right;\">\n      <th>country_id</th>\n      <th>AD</th>\n      <th>AE</th>\n      <th>AF</th>\n      <th>AG</th>\n      <th>AI</th>\n      <th>AL</th>\n      <th>AM</th>\n      <th>AO</th>\n      <th>AR</th>\n      <th>AT</th>\n      <th>...</th>\n      <th>VC</th>\n      <th>VE</th>\n      <th>VG</th>\n      <th>VI</th>\n      <th>VN</th>\n      <th>XK</th>\n      <th>YE</th>\n      <th>ZA</th>\n      <th>ZM</th>\n      <th>ZW</th>\n    </tr>\n    <tr>\n      <th>date</th>\n      <th></th>\n      <th></th>\n      <th></th>\n      <th></th>\n      <th></th>\n      <th></th>\n      <th></th>\n      <th></th>\n      <th></th>\n      <th></th>\n      <th></th>\n      <th></th>\n      <th></th>\n      <th></th>\n      <th></th>\n      <th></th>\n      <th></th>\n      <th></th>\n      <th></th>\n      <th></th>\n      <th></th>\n    </tr>\n  </thead>\n  <tbody>\n    <tr>\n      <th>12/31/2019</th>\n      <td>0</td>\n      <td>0</td>\n      <td>0</td>\n      <td>0</td>\n      <td>0</td>\n      <td>0</td>\n      <td>0</td>\n      <td>0</td>\n      <td>0</td>\n      <td>0</td>\n      <td>...</td>\n      <td>0</td>\n      <td>0</td>\n      <td>0</td>\n      <td>0</td>\n      <td>0</td>\n      <td>0</td>\n      <td>0</td>\n      <td>0</td>\n      <td>0</td>\n      <td>0</td>\n    </tr>\n    <tr>\n      <th>1/1/2020</th>\n      <td>0</td>\n      <td>0</td>\n      <td>0</td>\n      <td>0</td>\n      <td>0</td>\n      <td>0</td>\n      <td>0</td>\n      <td>0</td>\n      <td>0</td>\n      <td>0</td>\n      <td>...</td>\n      <td>0</td>\n      <td>0</td>\n      <td>0</td>\n      <td>0</td>\n      <td>0</td>\n      <td>0</td>\n      <td>0</td>\n      <td>0</td>\n      <td>0</td>\n      <td>0</td>\n    </tr>\n    <tr>\n      <th>1/2/2020</th>\n      <td>0</td>\n      <td>0</td>\n      <td>0</td>\n      <td>0</td>\n      <td>0</td>\n      <td>0</td>\n      <td>0</td>\n      <td>0</td>\n      <td>0</td>\n      <td>0</td>\n      <td>...</td>\n      <td>0</td>\n      <td>0</td>\n      <td>0</td>\n      <td>0</td>\n      <td>0</td>\n      <td>0</td>\n      <td>0</td>\n      <td>0</td>\n      <td>0</td>\n      <td>0</td>\n    </tr>\n    <tr>\n      <th>1/3/2020</th>\n      <td>0</td>\n      <td>0</td>\n      <td>0</td>\n      <td>0</td>\n      <td>0</td>\n      <td>0</td>\n      <td>0</td>\n      <td>0</td>\n      <td>0</td>\n      <td>0</td>\n      <td>...</td>\n      <td>0</td>\n      <td>0</td>\n      <td>0</td>\n      <td>0</td>\n      <td>0</td>\n      <td>0</td>\n      <td>0</td>\n      <td>0</td>\n      <td>0</td>\n      <td>0</td>\n    </tr>\n    <tr>\n      <th>1/4/2020</th>\n      <td>0</td>\n      <td>0</td>\n      <td>0</td>\n      <td>0</td>\n      <td>0</td>\n      <td>0</td>\n      <td>0</td>\n      <td>0</td>\n      <td>0</td>\n      <td>0</td>\n      <td>...</td>\n      <td>0</td>\n      <td>0</td>\n      <td>0</td>\n      <td>0</td>\n      <td>0</td>\n      <td>0</td>\n      <td>0</td>\n      <td>0</td>\n      <td>0</td>\n      <td>0</td>\n    </tr>\n  </tbody>\n</table>\n<p>5 rows × 208 columns</p>\n</div>"
     },
     "metadata": {},
     "execution_count": 476
    }
   ],
   "source": [
    "df_deaths = df['deaths']\n",
    "df_deaths.head()"
   ]
  },
  {
   "cell_type": "code",
   "execution_count": 477,
   "metadata": {
    "tags": []
   },
   "outputs": [],
   "source": [
    "# daily deaths\n",
    "df_diff0 = df_deaths.diff(axis=0)\n"
   ]
  },
  {
   "cell_type": "code",
   "execution_count": 486,
   "metadata": {
    "tags": []
   },
   "outputs": [
    {
     "output_type": "stream",
     "name": "stdout",
     "text": "(100, 208)\n"
    },
    {
     "output_type": "execute_result",
     "data": {
      "text/plain": "array([&#39;CA&#39;, &#39;DE&#39;, &#39;PL&#39;, &#39;DZ&#39;, &#39;BE&#39;, &#39;AM&#39;, &#39;MD&#39;, &#39;PT&#39;, &#39;MK&#39;, &#39;BY&#39;],\n      dtype=object)"
     },
     "metadata": {},
     "execution_count": 486
    }
   ],
   "source": [
    "df_diff=df_diff0.iloc[180:280,:]\n",
    "print(df_diff.shape)\n",
    "euclid_dis = euclidean_dist_squared(np.array(df_diff['CA'])[None], np.array(df_diff).T)\n",
    "# sorted countries close to Canada in terms of daily deaths\n",
    "df_diff.columns.values[np.argsort(euclid_dis.flatten())[range(10)]]"
   ]
  },
  {
   "cell_type": "code",
   "execution_count": null,
   "metadata": {},
   "outputs": [],
   "source": [
    "### Fitting linear regression model after feature selection:"
   ]
  },
  {
   "cell_type": "code",
   "execution_count": 487,
   "metadata": {
    "tags": []
   },
   "outputs": [
    {
     "output_type": "stream",
     "name": "stdout",
     "text": "           daily_death_ca  daily_death_ca_lag1  daily_death_ca_lag2  \\\ndate                                                                  \n6/28/2020             8.0                  4.0                 20.0   \n6/29/2020             6.0                  8.0                  4.0   \n6/30/2020            44.0                  6.0                  8.0   \n7/1/2020             25.0                 44.0                  6.0   \n7/2/2020              0.0                 25.0                 44.0   \n\n           daily_death_ca_lag3  \ndate                            \n6/28/2020                 30.0  \n6/29/2020                 20.0  \n6/30/2020                  4.0  \n7/1/2020                   8.0  \n7/2/2020                   6.0  \n"
    }
   ],
   "source": [
    "#compute the lag of daily death of canada\n",
    "daily_death_ca=df_diff0['CA']\n",
    "daily_death_ca_lag1=daily_death_ca.shift(periods=1)\n",
    "daily_death_ca_lag2=daily_death_ca.shift(periods=2)\n",
    "daily_death_ca_lag3=daily_death_ca.shift(periods=3)\n",
    "\n",
    "feature_space=pd.concat([daily_death_ca,daily_death_ca_lag1,daily_death_ca_lag2,daily_death_ca_lag3],axis=1)\n",
    "feature_space.columns=[\"daily_death_ca\",\"daily_death_ca_lag1\",\"daily_death_ca_lag2\",\"daily_death_ca_lag3\"]\n",
    "fs_sub=feature_space.iloc[180:280,:]\n",
    "\n",
    "print(fs_sub.head())\n"
   ]
  },
  {
   "cell_type": "code",
   "execution_count": 488,
   "metadata": {
    "tags": []
   },
   "outputs": [
    {
     "output_type": "stream",
     "name": "stdout",
     "text": "[ 3.08624767  0.46034715 -0.12275157  0.38948886]\n"
    }
   ],
   "source": [
    "model=LeastSquaresBias()\n",
    "X=feature_space.iloc[180:280,1:4]\n",
    "y=feature_space.iloc[180:280,0]\n",
    "model.fit(X=X,y=y)\n",
    "print(model.w)"
   ]
  },
  {
   "cell_type": "code",
   "execution_count": 489,
   "metadata": {
    "tags": []
   },
   "outputs": [
    {
     "output_type": "stream",
     "name": "stdout",
     "text": "[[19. 53. 90.]]\n[[40.38100793 19.         53.        ]]\n[[39.98615935 40.38100793 19.        ]]\n[[23.93721845 39.98615935 40.38100793]]\n[[24.92526699 23.93721845 39.98615935]]\n[[27.19635583 24.92526699 23.93721845]]\n[[21.86967688 27.19635583 24.92526699]]\n[[19.52360961 21.86967688 27.19635583]]\n[[19.98202622 19.52360961 21.86967688]]\n[[18.40635831 19.98202622 19.52360961]]\n[[16.71096566 18.40635831 19.98202622]]\n"
    }
   ],
   "source": [
    "dat_pred = feature_space\n",
    "for i in range(11):\n",
    "    new_data = np.array([dat_pred.iloc[-1,0], dat_pred.iloc[-2,0], dat_pred.iloc[-3,0]])[None]\n",
    "    print(new_data)\n",
    "    y_pred = model.predict(X=new_data)\n",
    "    dat_pred = pd.concat([dat_pred, pd.DataFrame(np.append(y_pred, new_data[0])[None], columns=dat_pred.columns.values)], axis=0)\n",
    "\n",
    "    \n"
   ]
  },
  {
   "cell_type": "code",
   "execution_count": 490,
   "metadata": {
    "tags": []
   },
   "outputs": [
    {
     "output_type": "stream",
     "name": "stdout",
     "text": "57.66428703559427\n"
    }
   ],
   "source": [
    "true_deaths_CA = np.cumsum(np.append(dat_pred.iloc[1:280,0], np.array([26,11,16,28,23,5,14,27,10,35,23])))\n",
    "pred_deaths_CA = np.cumsum(dat_pred.iloc[1:,0])\n",
    "print(rmse(true_deaths_CA[-11:],pred_deaths_CA[-11:]))\n"
   ]
  },
  {
   "cell_type": "code",
   "execution_count": 492,
   "metadata": {
    "tags": []
   },
   "outputs": [
    {
     "output_type": "stream",
     "name": "stdout",
     "text": "date\n12/31/2019       0\n1/1/2020         0\n1/2/2020         0\n1/3/2020         0\n1/4/2020         0\n              ... \n10/1/2020     9297\n10/2/2020     9319\n10/3/2020     9409\n10/4/2020     9462\n10/5/2020     9481\nName: CA, Length: 280, dtype: int64\n17.73958226350398\n"
    }
   ],
   "source": [
    "\n",
    "\n",
    "#compute the lag of daily death of canada\n",
    "death_ca=df_deaths['CA']\n",
    "print(death_ca)\n",
    "death_ca_lag1=death_ca.shift(periods=1)\n",
    "death_ca_lag2=death_ca.shift(periods=2)\n",
    "death_ca_lag3=death_ca.shift(periods=3)\n",
    "\n",
    "feature_space=pd.concat([death_ca,death_ca_lag1,death_ca_lag2,death_ca_lag3],axis=1)\n",
    "feature_space.columns=[\"death_ca\",\"death_ca_lag1\",\"death_ca_lag2\",\"death_ca_lag3\"]\n",
    "\n",
    "model=LeastSquaresBias()\n",
    "X=feature_space.iloc[180:280,1:4]\n",
    "y=feature_space.iloc[180:280,0]\n",
    "model.fit(X=X,y=y)\n",
    "\n",
    "dat_pred = feature_space\n",
    "for i in range(11):\n",
    "    new_data = np.array([dat_pred.iloc[-1,0], dat_pred.iloc[-2,0], dat_pred.iloc[-3,0]])[None]\n",
    "    y_pred = model.predict(X=new_data)\n",
    "    dat_pred = pd.concat([dat_pred, pd.DataFrame(np.append(y_pred, new_data[0])[None], columns=dat_pred.columns.values)], axis=0)\n",
    "\n",
    "pred_deaths_CA2 = dat_pred.iloc[:,0]\n",
    "\n",
    "print(rmse(true_deaths_CA[-11:],(pred_deaths_CA2[-11:]+pred_deaths_CA[-11:])/2))"
   ]
  },
  {
   "cell_type": "code",
   "execution_count": 494,
   "metadata": {
    "tags": []
   },
   "outputs": [],
   "source": [
    "prediction = (pred_deaths_CA2[-11:]+pred_deaths_CA[-11:])/2\n",
    "prediction.to_csv(\"../data/prediction.csv\", index = False, sep = \",\")"
   ]
  },
  {
   "cell_type": "code",
   "execution_count": null,
   "metadata": {},
   "outputs": [],
   "source": []
  }
 ]
}