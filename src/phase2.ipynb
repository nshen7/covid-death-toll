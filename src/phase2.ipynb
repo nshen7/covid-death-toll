{
 "metadata": {
  "language_info": {
   "codemirror_mode": {
    "name": "ipython",
    "version": 3
   },
   "file_extension": ".py",
   "mimetype": "text/x-python",
   "name": "python",
   "nbconvert_exporter": "python",
   "pygments_lexer": "ipython3",
   "version": "3.6.4-final"
  },
  "orig_nbformat": 2,
  "kernelspec": {
   "name": "Python 3.6.4 64-bit",
   "display_name": "Python 3.6.4 64-bit",
   "metadata": {
    "interpreter": {
     "hash": "05ece30799c2dcdac4c13b3af20453da19de8df0d9a1de52cff7e0b6e1e82bdd"
    }
   }
  }
 },
 "nbformat": 4,
 "nbformat_minor": 2,
 "cells": [
  {
   "cell_type": "code",
   "execution_count": 1,
   "metadata": {},
   "outputs": [],
   "source": [
    "import os\n",
    "import matplotlib.pyplot as plt\n",
    "import numpy as np\n",
    "import pandas as pd\n",
    "import datetime as dt\n",
    "import csv\n",
    "from linear_model import LeastSquaresBias\n"
   ]
  },
  {
   "cell_type": "code",
   "execution_count": 2,
   "metadata": {},
   "outputs": [],
   "source": [
    "def cosine_distance(X1,X2):\n",
    "    norm1=np.sqrt(np.sum(X1**2,axis=1)) #norm for each data vector:length is # row of X1 n1\n",
    "    norm2=np.sqrt(np.sum(X2**2,axis=1)) #norm for each data vector: length is # row of X2 n2\n",
    "    dem=np.outer(norm1,norm2) #n1*n2 matrix\n",
    "    num=np.dot(X1,X2.T)\n",
    "    tem=num/dem\n",
    "    tem[np.isnan(tem)]=0\n",
    "\n",
    "    return 1-tem\n",
    "\n",
    "def euclidean_dist_squared(X, Xtest):\n",
    "    return np.sum(X**2, axis=1)[:,None] + np.sum(Xtest**2, axis=1)[None] - 2 * np.dot(X,Xtest.T)\n",
    "    \n",
    "def rmse(predictions, targets):\n",
    "    return np.sqrt(((predictions - targets) ** 2).mean())"
   ]
  },
  {
   "cell_type": "code",
   "execution_count": 6,
   "metadata": {},
   "outputs": [
    {
     "output_type": "execute_result",
     "data": {
      "text/plain": "      country_id        date  cases  deaths  cases_14_100k  cases_100k\n0             AD  12/31/2019      0       0           0.00        0.00\n1             AD    1/1/2020      0       0           0.00        0.00\n2             AD    1/2/2020      0       0           0.00        0.00\n3             AD    1/3/2020      0       0           0.00        0.00\n4             AD    1/4/2020      0       0           0.00        0.00\n...          ...         ...    ...     ...            ...         ...\n62997         ZW  10/23/2020   8242     236           1.69       56.28\n62998         ZW  10/24/2020   8257     236           1.69       56.38\n62999         ZW  10/25/2020   8269     236           1.76       56.46\n63000        NaN         NaN      0       0           0.00        0.00\n63001        NaN         NaN      0       0           0.00        0.00\n\n[63002 rows x 6 columns]",
      "text/html": "<div>\n<style scoped>\n    .dataframe tbody tr th:only-of-type {\n        vertical-align: middle;\n    }\n\n    .dataframe tbody tr th {\n        vertical-align: top;\n    }\n\n    .dataframe thead th {\n        text-align: right;\n    }\n</style>\n<table border=\"1\" class=\"dataframe\">\n  <thead>\n    <tr style=\"text-align: right;\">\n      <th></th>\n      <th>country_id</th>\n      <th>date</th>\n      <th>cases</th>\n      <th>deaths</th>\n      <th>cases_14_100k</th>\n      <th>cases_100k</th>\n    </tr>\n  </thead>\n  <tbody>\n    <tr>\n      <th>0</th>\n      <td>AD</td>\n      <td>12/31/2019</td>\n      <td>0</td>\n      <td>0</td>\n      <td>0.00</td>\n      <td>0.00</td>\n    </tr>\n    <tr>\n      <th>1</th>\n      <td>AD</td>\n      <td>1/1/2020</td>\n      <td>0</td>\n      <td>0</td>\n      <td>0.00</td>\n      <td>0.00</td>\n    </tr>\n    <tr>\n      <th>2</th>\n      <td>AD</td>\n      <td>1/2/2020</td>\n      <td>0</td>\n      <td>0</td>\n      <td>0.00</td>\n      <td>0.00</td>\n    </tr>\n    <tr>\n      <th>3</th>\n      <td>AD</td>\n      <td>1/3/2020</td>\n      <td>0</td>\n      <td>0</td>\n      <td>0.00</td>\n      <td>0.00</td>\n    </tr>\n    <tr>\n      <th>4</th>\n      <td>AD</td>\n      <td>1/4/2020</td>\n      <td>0</td>\n      <td>0</td>\n      <td>0.00</td>\n      <td>0.00</td>\n    </tr>\n    <tr>\n      <th>...</th>\n      <td>...</td>\n      <td>...</td>\n      <td>...</td>\n      <td>...</td>\n      <td>...</td>\n      <td>...</td>\n    </tr>\n    <tr>\n      <th>62997</th>\n      <td>ZW</td>\n      <td>10/23/2020</td>\n      <td>8242</td>\n      <td>236</td>\n      <td>1.69</td>\n      <td>56.28</td>\n    </tr>\n    <tr>\n      <th>62998</th>\n      <td>ZW</td>\n      <td>10/24/2020</td>\n      <td>8257</td>\n      <td>236</td>\n      <td>1.69</td>\n      <td>56.38</td>\n    </tr>\n    <tr>\n      <th>62999</th>\n      <td>ZW</td>\n      <td>10/25/2020</td>\n      <td>8269</td>\n      <td>236</td>\n      <td>1.76</td>\n      <td>56.46</td>\n    </tr>\n    <tr>\n      <th>63000</th>\n      <td>NaN</td>\n      <td>NaN</td>\n      <td>0</td>\n      <td>0</td>\n      <td>0.00</td>\n      <td>0.00</td>\n    </tr>\n    <tr>\n      <th>63001</th>\n      <td>NaN</td>\n      <td>NaN</td>\n      <td>0</td>\n      <td>0</td>\n      <td>0.00</td>\n      <td>0.00</td>\n    </tr>\n  </tbody>\n</table>\n<p>63002 rows × 6 columns</p>\n</div>"
     },
     "metadata": {},
     "execution_count": 6
    }
   ],
   "source": [
    "filename = \"phase2_training_data.csv\"\n",
    "with open(os.path.join(\"..\",\"data\",filename),\"rb\") as f:\n",
    "    df0 = pd.read_csv(f)\n",
    "\n",
    "df0.head()"
   ]
  },
  {
   "cell_type": "code",
   "execution_count": 8,
   "metadata": {
    "tags": []
   },
   "outputs": [
    {
     "output_type": "execute_result",
     "data": {
      "text/plain": "           cases                                                             \\\ncountry_id    AD      AE     AF   AG AI     AL     AM    AO       AR     AT   \ndate                                                                          \n12/31/2019     0       0      0    0  0      0      0     0        0      0   \n1/1/2020       0       0      0    0  0      0      0     0        0      0   \n1/2/2020       0       0      0    0  0      0      0     0        0      0   \n1/3/2020       0       0      0    0  0      0      0     0        0      0   \n1/4/2020       0       0      0    0  0      0      0     0        0      0   \n...          ...     ...    ...  ... ..    ...    ...   ...      ...    ...   \n10/21/2020  3623  117594  40375  119  3  17651  66694  7829  1018986  68414   \n10/22/2020  3811  119132  40510  122  3  17948  68530  8049  1037312  70769   \n10/23/2020  3811  120710  40626  122  3  18250  70836  8338  1053637  73339   \n10/24/2020  4038  122273  40687  122  3  18556  73310  8582  1069355  76781   \n10/25/2020  4038  123764  40768  124  3  18858  77837  8829  1081323  79770   \n\n            ... deaths                                             \ncountry_id  ...     VC   VE VG  VI  VN   XK   YE     ZA   ZM   ZW  \ndate        ...                                                    \n12/31/2019  ...      0    0  0   0   0    0    0      0    0    0  \n1/1/2020    ...      0    0  0   0   0    0    0      0    0    0  \n1/2/2020    ...      0    0  0   0   0    0    0      0    0    0  \n1/3/2020    ...      0    0  0   0   0    0    0      0    0    0  \n1/4/2020    ...      0    0  0   0   0    0    0      0    0    0  \n...         ...    ...  ... ..  ..  ..  ...  ...    ...  ...  ...  \n10/21/2020  ...      0  747  1  21  35  657  599  18656  346  233  \n10/22/2020  ...      0  753  1  21  35  657  599  18741  346  236  \n10/23/2020  ...      0  759  1  21  35  657  599  18843  346  236  \n10/24/2020  ...      0  764  1  21  35  659  599  18891  346  236  \n10/25/2020  ...      0  770  1  21  35  661  600  18944  348  236  \n\n[300 rows x 836 columns]",
      "text/html": "<div>\n<style scoped>\n    .dataframe tbody tr th:only-of-type {\n        vertical-align: middle;\n    }\n\n    .dataframe tbody tr th {\n        vertical-align: top;\n    }\n\n    .dataframe thead tr th {\n        text-align: left;\n    }\n\n    .dataframe thead tr:last-of-type th {\n        text-align: right;\n    }\n</style>\n<table border=\"1\" class=\"dataframe\">\n  <thead>\n    <tr>\n      <th></th>\n      <th colspan=\"10\" halign=\"left\">cases</th>\n      <th>...</th>\n      <th colspan=\"10\" halign=\"left\">deaths</th>\n    </tr>\n    <tr>\n      <th>country_id</th>\n      <th>AD</th>\n      <th>AE</th>\n      <th>AF</th>\n      <th>AG</th>\n      <th>AI</th>\n      <th>AL</th>\n      <th>AM</th>\n      <th>AO</th>\n      <th>AR</th>\n      <th>AT</th>\n      <th>...</th>\n      <th>VC</th>\n      <th>VE</th>\n      <th>VG</th>\n      <th>VI</th>\n      <th>VN</th>\n      <th>XK</th>\n      <th>YE</th>\n      <th>ZA</th>\n      <th>ZM</th>\n      <th>ZW</th>\n    </tr>\n    <tr>\n      <th>date</th>\n      <th></th>\n      <th></th>\n      <th></th>\n      <th></th>\n      <th></th>\n      <th></th>\n      <th></th>\n      <th></th>\n      <th></th>\n      <th></th>\n      <th></th>\n      <th></th>\n      <th></th>\n      <th></th>\n      <th></th>\n      <th></th>\n      <th></th>\n      <th></th>\n      <th></th>\n      <th></th>\n      <th></th>\n    </tr>\n  </thead>\n  <tbody>\n    <tr>\n      <th>12/31/2019</th>\n      <td>0</td>\n      <td>0</td>\n      <td>0</td>\n      <td>0</td>\n      <td>0</td>\n      <td>0</td>\n      <td>0</td>\n      <td>0</td>\n      <td>0</td>\n      <td>0</td>\n      <td>...</td>\n      <td>0</td>\n      <td>0</td>\n      <td>0</td>\n      <td>0</td>\n      <td>0</td>\n      <td>0</td>\n      <td>0</td>\n      <td>0</td>\n      <td>0</td>\n      <td>0</td>\n    </tr>\n    <tr>\n      <th>1/1/2020</th>\n      <td>0</td>\n      <td>0</td>\n      <td>0</td>\n      <td>0</td>\n      <td>0</td>\n      <td>0</td>\n      <td>0</td>\n      <td>0</td>\n      <td>0</td>\n      <td>0</td>\n      <td>...</td>\n      <td>0</td>\n      <td>0</td>\n      <td>0</td>\n      <td>0</td>\n      <td>0</td>\n      <td>0</td>\n      <td>0</td>\n      <td>0</td>\n      <td>0</td>\n      <td>0</td>\n    </tr>\n    <tr>\n      <th>1/2/2020</th>\n      <td>0</td>\n      <td>0</td>\n      <td>0</td>\n      <td>0</td>\n      <td>0</td>\n      <td>0</td>\n      <td>0</td>\n      <td>0</td>\n      <td>0</td>\n      <td>0</td>\n      <td>...</td>\n      <td>0</td>\n      <td>0</td>\n      <td>0</td>\n      <td>0</td>\n      <td>0</td>\n      <td>0</td>\n      <td>0</td>\n      <td>0</td>\n      <td>0</td>\n      <td>0</td>\n    </tr>\n    <tr>\n      <th>1/3/2020</th>\n      <td>0</td>\n      <td>0</td>\n      <td>0</td>\n      <td>0</td>\n      <td>0</td>\n      <td>0</td>\n      <td>0</td>\n      <td>0</td>\n      <td>0</td>\n      <td>0</td>\n      <td>...</td>\n      <td>0</td>\n      <td>0</td>\n      <td>0</td>\n      <td>0</td>\n      <td>0</td>\n      <td>0</td>\n      <td>0</td>\n      <td>0</td>\n      <td>0</td>\n      <td>0</td>\n    </tr>\n    <tr>\n      <th>1/4/2020</th>\n      <td>0</td>\n      <td>0</td>\n      <td>0</td>\n      <td>0</td>\n      <td>0</td>\n      <td>0</td>\n      <td>0</td>\n      <td>0</td>\n      <td>0</td>\n      <td>0</td>\n      <td>...</td>\n      <td>0</td>\n      <td>0</td>\n      <td>0</td>\n      <td>0</td>\n      <td>0</td>\n      <td>0</td>\n      <td>0</td>\n      <td>0</td>\n      <td>0</td>\n      <td>0</td>\n    </tr>\n    <tr>\n      <th>...</th>\n      <td>...</td>\n      <td>...</td>\n      <td>...</td>\n      <td>...</td>\n      <td>...</td>\n      <td>...</td>\n      <td>...</td>\n      <td>...</td>\n      <td>...</td>\n      <td>...</td>\n      <td>...</td>\n      <td>...</td>\n      <td>...</td>\n      <td>...</td>\n      <td>...</td>\n      <td>...</td>\n      <td>...</td>\n      <td>...</td>\n      <td>...</td>\n      <td>...</td>\n      <td>...</td>\n    </tr>\n    <tr>\n      <th>10/21/2020</th>\n      <td>3623</td>\n      <td>117594</td>\n      <td>40375</td>\n      <td>119</td>\n      <td>3</td>\n      <td>17651</td>\n      <td>66694</td>\n      <td>7829</td>\n      <td>1018986</td>\n      <td>68414</td>\n      <td>...</td>\n      <td>0</td>\n      <td>747</td>\n      <td>1</td>\n      <td>21</td>\n      <td>35</td>\n      <td>657</td>\n      <td>599</td>\n      <td>18656</td>\n      <td>346</td>\n      <td>233</td>\n    </tr>\n    <tr>\n      <th>10/22/2020</th>\n      <td>3811</td>\n      <td>119132</td>\n      <td>40510</td>\n      <td>122</td>\n      <td>3</td>\n      <td>17948</td>\n      <td>68530</td>\n      <td>8049</td>\n      <td>1037312</td>\n      <td>70769</td>\n      <td>...</td>\n      <td>0</td>\n      <td>753</td>\n      <td>1</td>\n      <td>21</td>\n      <td>35</td>\n      <td>657</td>\n      <td>599</td>\n      <td>18741</td>\n      <td>346</td>\n      <td>236</td>\n    </tr>\n    <tr>\n      <th>10/23/2020</th>\n      <td>3811</td>\n      <td>120710</td>\n      <td>40626</td>\n      <td>122</td>\n      <td>3</td>\n      <td>18250</td>\n      <td>70836</td>\n      <td>8338</td>\n      <td>1053637</td>\n      <td>73339</td>\n      <td>...</td>\n      <td>0</td>\n      <td>759</td>\n      <td>1</td>\n      <td>21</td>\n      <td>35</td>\n      <td>657</td>\n      <td>599</td>\n      <td>18843</td>\n      <td>346</td>\n      <td>236</td>\n    </tr>\n    <tr>\n      <th>10/24/2020</th>\n      <td>4038</td>\n      <td>122273</td>\n      <td>40687</td>\n      <td>122</td>\n      <td>3</td>\n      <td>18556</td>\n      <td>73310</td>\n      <td>8582</td>\n      <td>1069355</td>\n      <td>76781</td>\n      <td>...</td>\n      <td>0</td>\n      <td>764</td>\n      <td>1</td>\n      <td>21</td>\n      <td>35</td>\n      <td>659</td>\n      <td>599</td>\n      <td>18891</td>\n      <td>346</td>\n      <td>236</td>\n    </tr>\n    <tr>\n      <th>10/25/2020</th>\n      <td>4038</td>\n      <td>123764</td>\n      <td>40768</td>\n      <td>124</td>\n      <td>3</td>\n      <td>18858</td>\n      <td>77837</td>\n      <td>8829</td>\n      <td>1081323</td>\n      <td>79770</td>\n      <td>...</td>\n      <td>0</td>\n      <td>770</td>\n      <td>1</td>\n      <td>21</td>\n      <td>35</td>\n      <td>661</td>\n      <td>600</td>\n      <td>18944</td>\n      <td>348</td>\n      <td>236</td>\n    </tr>\n  </tbody>\n</table>\n<p>300 rows × 836 columns</p>\n</div>"
     },
     "metadata": {},
     "execution_count": 8
    }
   ],
   "source": [
    "df = df0.pivot_table(index=\"date\",columns='country_id',values=['deaths','cases','cases_14_100k','cases_100k'])\n",
    "dates = [dt.datetime.strptime(date, \"%m/%d/%Y\").date() for date in df.index.values]\n",
    "df = df.iloc[np.argsort(dates),:]\n",
    "df\n"
   ]
  },
  {
   "cell_type": "code",
   "execution_count": 9,
   "metadata": {},
   "outputs": [
    {
     "output_type": "execute_result",
     "data": {
      "text/plain": "country_id  AD  AE  AF  AG  AI  AL  AM  AO  AR  AT  ...  VC  VE  VG  VI  VN  \\\ndate                                                ...                       \n12/31/2019   0   0   0   0   0   0   0   0   0   0  ...   0   0   0   0   0   \n1/1/2020     0   0   0   0   0   0   0   0   0   0  ...   0   0   0   0   0   \n1/2/2020     0   0   0   0   0   0   0   0   0   0  ...   0   0   0   0   0   \n1/3/2020     0   0   0   0   0   0   0   0   0   0  ...   0   0   0   0   0   \n1/4/2020     0   0   0   0   0   0   0   0   0   0  ...   0   0   0   0   0   \n\ncountry_id  XK  YE  ZA  ZM  ZW  \ndate                            \n12/31/2019   0   0   0   0   0  \n1/1/2020     0   0   0   0   0  \n1/2/2020     0   0   0   0   0  \n1/3/2020     0   0   0   0   0  \n1/4/2020     0   0   0   0   0  \n\n[5 rows x 209 columns]",
      "text/html": "<div>\n<style scoped>\n    .dataframe tbody tr th:only-of-type {\n        vertical-align: middle;\n    }\n\n    .dataframe tbody tr th {\n        vertical-align: top;\n    }\n\n    .dataframe thead th {\n        text-align: right;\n    }\n</style>\n<table border=\"1\" class=\"dataframe\">\n  <thead>\n    <tr style=\"text-align: right;\">\n      <th>country_id</th>\n      <th>AD</th>\n      <th>AE</th>\n      <th>AF</th>\n      <th>AG</th>\n      <th>AI</th>\n      <th>AL</th>\n      <th>AM</th>\n      <th>AO</th>\n      <th>AR</th>\n      <th>AT</th>\n      <th>...</th>\n      <th>VC</th>\n      <th>VE</th>\n      <th>VG</th>\n      <th>VI</th>\n      <th>VN</th>\n      <th>XK</th>\n      <th>YE</th>\n      <th>ZA</th>\n      <th>ZM</th>\n      <th>ZW</th>\n    </tr>\n    <tr>\n      <th>date</th>\n      <th></th>\n      <th></th>\n      <th></th>\n      <th></th>\n      <th></th>\n      <th></th>\n      <th></th>\n      <th></th>\n      <th></th>\n      <th></th>\n      <th></th>\n      <th></th>\n      <th></th>\n      <th></th>\n      <th></th>\n      <th></th>\n      <th></th>\n      <th></th>\n      <th></th>\n      <th></th>\n      <th></th>\n    </tr>\n  </thead>\n  <tbody>\n    <tr>\n      <th>12/31/2019</th>\n      <td>0</td>\n      <td>0</td>\n      <td>0</td>\n      <td>0</td>\n      <td>0</td>\n      <td>0</td>\n      <td>0</td>\n      <td>0</td>\n      <td>0</td>\n      <td>0</td>\n      <td>...</td>\n      <td>0</td>\n      <td>0</td>\n      <td>0</td>\n      <td>0</td>\n      <td>0</td>\n      <td>0</td>\n      <td>0</td>\n      <td>0</td>\n      <td>0</td>\n      <td>0</td>\n    </tr>\n    <tr>\n      <th>1/1/2020</th>\n      <td>0</td>\n      <td>0</td>\n      <td>0</td>\n      <td>0</td>\n      <td>0</td>\n      <td>0</td>\n      <td>0</td>\n      <td>0</td>\n      <td>0</td>\n      <td>0</td>\n      <td>...</td>\n      <td>0</td>\n      <td>0</td>\n      <td>0</td>\n      <td>0</td>\n      <td>0</td>\n      <td>0</td>\n      <td>0</td>\n      <td>0</td>\n      <td>0</td>\n      <td>0</td>\n    </tr>\n    <tr>\n      <th>1/2/2020</th>\n      <td>0</td>\n      <td>0</td>\n      <td>0</td>\n      <td>0</td>\n      <td>0</td>\n      <td>0</td>\n      <td>0</td>\n      <td>0</td>\n      <td>0</td>\n      <td>0</td>\n      <td>...</td>\n      <td>0</td>\n      <td>0</td>\n      <td>0</td>\n      <td>0</td>\n      <td>0</td>\n      <td>0</td>\n      <td>0</td>\n      <td>0</td>\n      <td>0</td>\n      <td>0</td>\n    </tr>\n    <tr>\n      <th>1/3/2020</th>\n      <td>0</td>\n      <td>0</td>\n      <td>0</td>\n      <td>0</td>\n      <td>0</td>\n      <td>0</td>\n      <td>0</td>\n      <td>0</td>\n      <td>0</td>\n      <td>0</td>\n      <td>...</td>\n      <td>0</td>\n      <td>0</td>\n      <td>0</td>\n      <td>0</td>\n      <td>0</td>\n      <td>0</td>\n      <td>0</td>\n      <td>0</td>\n      <td>0</td>\n      <td>0</td>\n    </tr>\n    <tr>\n      <th>1/4/2020</th>\n      <td>0</td>\n      <td>0</td>\n      <td>0</td>\n      <td>0</td>\n      <td>0</td>\n      <td>0</td>\n      <td>0</td>\n      <td>0</td>\n      <td>0</td>\n      <td>0</td>\n      <td>...</td>\n      <td>0</td>\n      <td>0</td>\n      <td>0</td>\n      <td>0</td>\n      <td>0</td>\n      <td>0</td>\n      <td>0</td>\n      <td>0</td>\n      <td>0</td>\n      <td>0</td>\n    </tr>\n  </tbody>\n</table>\n<p>5 rows × 209 columns</p>\n</div>"
     },
     "metadata": {},
     "execution_count": 9
    }
   ],
   "source": [
    "df_deaths = df['deaths']\n",
    "df_deaths.head()"
   ]
  },
  {
   "cell_type": "code",
   "execution_count": 10,
   "metadata": {
    "tags": []
   },
   "outputs": [],
   "source": [
    "# daily deaths\n",
    "df_diff0 = df_deaths.diff(axis=0)\n"
   ]
  },
  {
   "cell_type": "code",
   "execution_count": 12,
   "metadata": {
    "tags": []
   },
   "outputs": [
    {
     "output_type": "stream",
     "name": "stdout",
     "text": "(100, 209)\n"
    },
    {
     "output_type": "execute_result",
     "data": {
      "text/plain": "array([&#39;CA&#39;, &#39;PT&#39;, &#39;HU&#39;, &#39;JO&#39;, &#39;DE&#39;, &#39;NP&#39;, &#39;MD&#39;, &#39;BG&#39;, &#39;PY&#39;, &#39;AM&#39;],\n      dtype=object)"
     },
     "metadata": {},
     "execution_count": 12
    }
   ],
   "source": [
    "df_diff=df_diff0.iloc[200:300,:]\n",
    "print(df_diff.shape)\n",
    "euclid_dis = euclidean_dist_squared(np.array(df_diff['CA'])[None], np.array(df_diff).T)\n",
    "# sorted countries close to Canada in terms of daily deaths\n",
    "df_diff.columns.values[np.argsort(euclid_dis.flatten())[range(10)]]"
   ]
  },
  {
   "cell_type": "code",
   "execution_count": 13,
   "metadata": {},
   "outputs": [],
   "source": [
    "### Fitting linear regression model after feature selection:"
   ]
  },
  {
   "cell_type": "code",
   "execution_count": 14,
   "metadata": {
    "tags": []
   },
   "outputs": [
    {
     "output_type": "stream",
     "name": "stdout",
     "text": "           daily_death_ca  daily_death_ca_lag1  daily_death_ca_lag2  \\\ndate                                                                  \n6/28/2020             8.0                  4.0                 20.0   \n6/29/2020             6.0                  8.0                  4.0   \n6/30/2020            44.0                  6.0                  8.0   \n7/1/2020             25.0                 44.0                  6.0   \n7/2/2020              0.0                 25.0                 44.0   \n\n           daily_death_ca_lag3  \ndate                            \n6/28/2020                 30.0  \n6/29/2020                 20.0  \n6/30/2020                  4.0  \n7/1/2020                   8.0  \n7/2/2020                   6.0  \n"
    }
   ],
   "source": [
    "#compute the lag of daily death of canada\n",
    "daily_death_ca=df_diff0['CA']\n",
    "daily_death_ca_lag1=daily_death_ca.shift(periods=1)\n",
    "daily_death_ca_lag2=daily_death_ca.shift(periods=2)\n",
    "daily_death_ca_lag3=daily_death_ca.shift(periods=3)\n",
    "\n",
    "feature_space=pd.concat([daily_death_ca,daily_death_ca_lag1,daily_death_ca_lag2,daily_death_ca_lag3],axis=1)\n",
    "feature_space.columns=[\"daily_death_ca\",\"daily_death_ca_lag1\",\"daily_death_ca_lag2\",\"daily_death_ca_lag3\"]\n",
    "fs_sub=feature_space.iloc[180:280,:]\n",
    "\n",
    "print(fs_sub.head())\n"
   ]
  },
  {
   "cell_type": "code",
   "execution_count": 15,
   "metadata": {
    "tags": []
   },
   "outputs": [
    {
     "output_type": "stream",
     "name": "stdout",
     "text": "[ 3.08587644  0.57279425 -0.21613878  0.38393823]\n"
    }
   ],
   "source": [
    "model=LeastSquaresBias()\n",
    "X=feature_space.iloc[200:300,1:4]\n",
    "y=feature_space.iloc[200:300,0]\n",
    "model.fit(X=X,y=y)\n",
    "print(model.w)"
   ]
  },
  {
   "cell_type": "code",
   "execution_count": 16,
   "metadata": {
    "tags": []
   },
   "outputs": [
    {
     "output_type": "stream",
     "name": "stdout",
     "text": "[[34. 26. 33.]]\n[[29.61123411 34.         26.        ]]\n[[22.68069641 29.61123411 34.        ]]\n[[22.73101262 22.68069641 29.61123411]]\n[[22.57277641 22.73101262 22.68069641]]\n[[19.81036598 22.57277641 22.73101262]]\n[[18.28159247 19.81036598 22.57277641]]\n[[17.94223089 18.28159247 19.81036598]]\n[[17.0176788  17.94223089 18.28159247]]\n[[15.97449529 17.0176788  17.94223089]]\n[[15.44650345 15.97449529 17.0176788 ]]\n"
    }
   ],
   "source": [
    "dat_pred = feature_space\n",
    "for i in range(11):\n",
    "    new_data = np.array([dat_pred.iloc[-1,0], dat_pred.iloc[-2,0], dat_pred.iloc[-3,0]])[None]\n",
    "    print(new_data)\n",
    "    y_pred = model.predict(X=new_data)\n",
    "    dat_pred = pd.concat([dat_pred, pd.DataFrame(np.append(y_pred, new_data[0])[None], columns=dat_pred.columns.values)], axis=0)\n",
    "\n",
    "    \n"
   ]
  }
 ]
}